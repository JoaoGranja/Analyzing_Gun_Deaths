{
 "cells": [
  {
   "cell_type": "code",
   "execution_count": 1,
   "metadata": {
    "collapsed": false
   },
   "outputs": [
    {
     "name": "stdout",
     "output_type": "stream",
     "text": [
      "[['', 'year', 'month', 'intent', 'police', 'sex', 'age', 'race', 'hispanic', 'place', 'education'], ['1', '2012', '01', 'Suicide', '0', 'M', '34', 'Asian/Pacific Islander', '100', 'Home', '4'], ['2', '2012', '01', 'Suicide', '0', 'F', '21', 'White', '100', 'Street', '3'], ['3', '2012', '01', 'Suicide', '0', 'M', '60', 'White', '100', 'Other specified', '4'], ['4', '2012', '02', 'Suicide', '0', 'M', '64', 'White', '100', 'Home', '4']]\n"
     ]
    }
   ],
   "source": [
    "import csv\n",
    "\n",
    "f = open(\"guns.csv\",'r')\n",
    "reader = csv.reader(f)\n",
    "data = list(reader)\n",
    "print(data[:5])"
   ]
  },
  {
   "cell_type": "markdown",
   "metadata": {},
   "source": [
    "## Removing the Header"
   ]
  },
  {
   "cell_type": "code",
   "execution_count": 2,
   "metadata": {
    "collapsed": false
   },
   "outputs": [
    {
     "name": "stdout",
     "output_type": "stream",
     "text": [
      "['', 'year', 'month', 'intent', 'police', 'sex', 'age', 'race', 'hispanic', 'place', 'education']\n",
      "[['1', '2012', '01', 'Suicide', '0', 'M', '34', 'Asian/Pacific Islander', '100', 'Home', '4'], ['2', '2012', '01', 'Suicide', '0', 'F', '21', 'White', '100', 'Street', '3'], ['3', '2012', '01', 'Suicide', '0', 'M', '60', 'White', '100', 'Other specified', '4'], ['4', '2012', '02', 'Suicide', '0', 'M', '64', 'White', '100', 'Home', '4'], ['5', '2012', '02', 'Suicide', '0', 'M', '31', 'White', '100', 'Other specified', '2']]\n"
     ]
    }
   ],
   "source": [
    "headers = data[0]\n",
    "data = data[1:]\n",
    "print(headers)\n",
    "print(data[:5])"
   ]
  },
  {
   "cell_type": "markdown",
   "metadata": {},
   "source": [
    "# Counting gun deaths per year"
   ]
  },
  {
   "cell_type": "code",
   "execution_count": 3,
   "metadata": {
    "collapsed": false
   },
   "outputs": [
    {
     "name": "stdout",
     "output_type": "stream",
     "text": [
      "{'2013': 33636, '2012': 33563, '2014': 33599}\n"
     ]
    }
   ],
   "source": [
    "years = [row[1] for row in data]\n",
    "years_count = {}\n",
    "for year in years:\n",
    "    if year in years_count:\n",
    "        years_count[year] += 1\n",
    "    else:\n",
    "        years_count[year] = 1\n",
    "        \n",
    "print(years_count)"
   ]
  },
  {
   "cell_type": "markdown",
   "metadata": {},
   "source": [
    "# Counting gun deadths per date"
   ]
  },
  {
   "cell_type": "code",
   "execution_count": 4,
   "metadata": {
    "collapsed": false
   },
   "outputs": [
    {
     "name": "stdout",
     "output_type": "stream",
     "text": [
      "[datetime.datetime(2012, 1, 1, 0, 0), datetime.datetime(2012, 1, 1, 0, 0), datetime.datetime(2012, 1, 1, 0, 0), datetime.datetime(2012, 2, 1, 0, 0), datetime.datetime(2012, 2, 1, 0, 0)]\n",
      "{datetime.datetime(2014, 6, 1, 0, 0): 2931, datetime.datetime(2012, 12, 1, 0, 0): 2791, datetime.datetime(2013, 1, 1, 0, 0): 2864, datetime.datetime(2012, 7, 1, 0, 0): 3026, datetime.datetime(2014, 10, 1, 0, 0): 2865, datetime.datetime(2013, 3, 1, 0, 0): 2862, datetime.datetime(2012, 10, 1, 0, 0): 2733, datetime.datetime(2014, 4, 1, 0, 0): 2862, datetime.datetime(2013, 7, 1, 0, 0): 3079, datetime.datetime(2014, 2, 1, 0, 0): 2361, datetime.datetime(2013, 4, 1, 0, 0): 2798, datetime.datetime(2013, 10, 1, 0, 0): 2808, datetime.datetime(2012, 4, 1, 0, 0): 2795, datetime.datetime(2013, 8, 1, 0, 0): 2859, datetime.datetime(2013, 12, 1, 0, 0): 2765, datetime.datetime(2012, 5, 1, 0, 0): 2999, datetime.datetime(2013, 5, 1, 0, 0): 2806, datetime.datetime(2013, 6, 1, 0, 0): 2920, datetime.datetime(2013, 11, 1, 0, 0): 2758, datetime.datetime(2013, 2, 1, 0, 0): 2375, datetime.datetime(2014, 3, 1, 0, 0): 2684, datetime.datetime(2014, 11, 1, 0, 0): 2756, datetime.datetime(2012, 9, 1, 0, 0): 2852, datetime.datetime(2012, 6, 1, 0, 0): 2826, datetime.datetime(2012, 3, 1, 0, 0): 2743, datetime.datetime(2014, 5, 1, 0, 0): 2864, datetime.datetime(2014, 9, 1, 0, 0): 2914, datetime.datetime(2014, 1, 1, 0, 0): 2651, datetime.datetime(2012, 2, 1, 0, 0): 2357, datetime.datetime(2013, 9, 1, 0, 0): 2742, datetime.datetime(2012, 1, 1, 0, 0): 2758, datetime.datetime(2014, 7, 1, 0, 0): 2884, datetime.datetime(2012, 8, 1, 0, 0): 2954, datetime.datetime(2014, 12, 1, 0, 0): 2857, datetime.datetime(2012, 11, 1, 0, 0): 2729, datetime.datetime(2014, 8, 1, 0, 0): 2970}\n"
     ]
    }
   ],
   "source": [
    "import datetime\n",
    "\n",
    "dates = [datetime.datetime(year = int(row[1]), month = int(row[2]), day = 1) for row in data] \n",
    "\n",
    "print(dates[:5])\n",
    "\n",
    "date_counts = {}\n",
    "for date in dates:\n",
    "    if date in date_counts:\n",
    "        date_counts[date] += 1\n",
    "    else:\n",
    "        date_counts[date] = 1\n",
    "        \n",
    "print(date_counts)"
   ]
  },
  {
   "cell_type": "markdown",
   "metadata": {},
   "source": [
    " # Counting gun deaths per sex and race "
   ]
  },
  {
   "cell_type": "code",
   "execution_count": 5,
   "metadata": {
    "collapsed": false
   },
   "outputs": [
    {
     "name": "stdout",
     "output_type": "stream",
     "text": [
      "{'M': 86349, 'F': 14449}\n",
      "{'Native American/Native Alaskan': 917, 'Asian/Pacific Islander': 1326, 'Black': 23296, 'White': 66237, 'Hispanic': 9022}\n"
     ]
    }
   ],
   "source": [
    "sexes = [row[5] for row in data]\n",
    "races = [row[7] for row in data]\n",
    "\n",
    "sex_counts = {}\n",
    "for each in sexes:\n",
    "    if each in sex_counts:\n",
    "        sex_counts[each] += 1\n",
    "    else:\n",
    "        sex_counts[each] = 1  \n",
    "        \n",
    "race_counts = {}\n",
    "for each in races:\n",
    "    if each in race_counts:\n",
    "        race_counts[each] += 1\n",
    "    else:\n",
    "        race_counts[each] = 1\n",
    "        \n",
    "print(sex_counts)\n",
    "print(race_counts)\n"
   ]
  },
  {
   "cell_type": "markdown",
   "metadata": {},
   "source": [
    "# Analysis\n",
    "\n",
    "At this moment we used list comprehension to extract a column. Then count how many gun deaths occured by each column different value using a for loop and dictionary.\n",
    "\n",
    "It will be interesting to analyse the reason of the death."
   ]
  },
  {
   "cell_type": "markdown",
   "metadata": {},
   "source": [
    "# Read Census data"
   ]
  },
  {
   "cell_type": "code",
   "execution_count": 6,
   "metadata": {
    "collapsed": false
   },
   "outputs": [
    {
     "name": "stdout",
     "output_type": "stream",
     "text": [
      "[['Id', 'Year', 'Id', 'Sex', 'Id', 'Hispanic Origin', 'Id', 'Id2', 'Geography', 'Total', 'Race Alone - White', 'Race Alone - Hispanic', 'Race Alone - Black or African American', 'Race Alone - American Indian and Alaska Native', 'Race Alone - Asian', 'Race Alone - Native Hawaiian and Other Pacific Islander', 'Two or More Races'], ['cen42010', 'April 1, 2010 Census', 'totsex', 'Both Sexes', 'tothisp', 'Total', '0100000US', '', 'United States', '308745538', '197318956', '44618105', '40250635', '3739506', '15159516', '674625', '6984195']]\n"
     ]
    }
   ],
   "source": [
    "f = open(\"census.csv\",'r')\n",
    "reader = csv.reader(f)\n",
    "census = list(reader)\n",
    "print(census)"
   ]
  },
  {
   "cell_type": "code",
   "execution_count": 7,
   "metadata": {
    "collapsed": false
   },
   "outputs": [
    {
     "name": "stdout",
     "output_type": "stream",
     "text": [
      "197318956\n",
      "44618105\n",
      "40250635\n",
      "3739506\n",
      "15159516\n",
      "674625\n"
     ]
    }
   ],
   "source": [
    "row = census[1]\n",
    "\n",
    "white = int(row[10])\n",
    "print(white)\n",
    "hispanic = int(row[11])\n",
    "print(hispanic)\n",
    "black = int(row[12])\n",
    "print(black)\n",
    "native = int(row[13])\n",
    "print(native)\n",
    "asian = int(row[14])\n",
    "print(asian)\n",
    "isl = int(row[15])\n",
    "print(isl)"
   ]
  },
  {
   "cell_type": "code",
   "execution_count": 8,
   "metadata": {
    "collapsed": true
   },
   "outputs": [],
   "source": [
    "mapping = {\n",
    "    \"Asian/Pacific Islander\": 15834141,\n",
    "    \"Black\": 40250635,\n",
    "    \"Hispanic\": 44618105,\n",
    "    \"Native American/Native Alaskan\": 3739506,\n",
    "    \"White\": 197318956\n",
    "}"
   ]
  },
  {
   "cell_type": "code",
   "execution_count": 9,
   "metadata": {
    "collapsed": false
   },
   "outputs": [
    {
     "name": "stdout",
     "output_type": "stream",
     "text": [
      "{'White': 33.56849303419181, 'Native American/Native Alaskan': 24.521955573811088, 'Asian/Pacific Islander': 8.374309664161762, 'Black': 57.8773477735196, 'Hispanic': 20.220491210910907}\n"
     ]
    }
   ],
   "source": [
    "race_per_hundredk = {}\n",
    "for race in race_counts:\n",
    "    race_per_hundredk[race] = (race_counts[race] / mapping[race]) * 100000\n",
    "    \n",
    "print(race_per_hundredk)    \n",
    "    "
   ]
  },
  {
   "cell_type": "markdown",
   "metadata": {},
   "source": [
    "# Race gun deaths in homicide"
   ]
  },
  {
   "cell_type": "code",
   "execution_count": 10,
   "metadata": {
    "collapsed": false
   },
   "outputs": [
    {
     "name": "stdout",
     "output_type": "stream",
     "text": [
      "{'Asian/Pacific Islander': 3.530346230970155, 'White': 4.6356417981453335, 'Native American/Native Alaskan': 8.717729026240365, 'Black': 48.471284987180944, 'Hispanic': 12.627161104219914}\n"
     ]
    }
   ],
   "source": [
    "intents = [row[3] for row in data]\n",
    "homicide_race_counts = {}\n",
    "for i, race in enumerate(races):\n",
    "    if (intents[i] == \"Homicide\"):\n",
    "        if race in homicide_race_counts:\n",
    "            homicide_race_counts[race] += 1\n",
    "        else:\n",
    "            homicide_race_counts[race] = 1\n",
    "\n",
    "for race in homicide_race_counts:\n",
    "    homicide_race_counts[race] = (homicide_race_counts[race] / mapping[race]) * 100000\n",
    "    \n",
    "print(homicide_race_counts) "
   ]
  },
  {
   "cell_type": "markdown",
   "metadata": {},
   "source": [
    "# My findings\n",
    "We can verify that a much more gun deaths happen for black race to homicide intent.\n",
    "\n",
    "We can analyse gun deaths per location to find some pattern... per education... \n"
   ]
  },
  {
   "cell_type": "code",
   "execution_count": 12,
   "metadata": {
    "collapsed": false
   },
   "outputs": [
    {
     "name": "stdout",
     "output_type": "stream",
     "text": [
      "{'09': 2966, '06': 3130, '03': 2780, '04': 2845, '12': 3191, '10': 2968, '08': 3125, '05': 2976, '01': 2829, '11': 2919, '07': 3269, '02': 2178}\n"
     ]
    }
   ],
   "source": [
    "months = [row[2] for row in data]\n",
    "\n",
    "\n",
    "homicide_month_counts = {}\n",
    "for i, month in enumerate(months):\n",
    "    if (intents[i] == \"Homicide\"):\n",
    "        if month in homicide_month_counts:\n",
    "            homicide_month_counts[month] += 1\n",
    "        else:\n",
    "            homicide_month_counts[month] = 1\n",
    "\n",
    "\n",
    "print(homicide_month_counts) "
   ]
  },
  {
   "cell_type": "code",
   "execution_count": 13,
   "metadata": {
    "collapsed": false
   },
   "outputs": [
    {
     "name": "stdout",
     "output_type": "stream",
     "text": [
      "{'M': 29803, 'F': 5373}\n"
     ]
    }
   ],
   "source": [
    "homicide_sex_counts = {}\n",
    "for i, sex in enumerate(sexes):\n",
    "    if (intents[i] == \"Homicide\"):\n",
    "        if sex in homicide_sex_counts:\n",
    "            homicide_sex_counts[sex] += 1\n",
    "        else:\n",
    "            homicide_sex_counts[sex] = 1\n",
    "\n",
    "\n",
    "print(homicide_sex_counts) "
   ]
  },
  {
   "cell_type": "code",
   "execution_count": 14,
   "metadata": {
    "collapsed": false
   },
   "outputs": [
    {
     "name": "stdout",
     "output_type": "stream",
     "text": [
      "{'M': 1421, 'F': 218}\n"
     ]
    }
   ],
   "source": [
    "accidental_sex_counts = {}\n",
    "for i, sex in enumerate(sexes):\n",
    "    if (intents[i] == \"Accidental\"):\n",
    "        if sex in accidental_sex_counts:\n",
    "            accidental_sex_counts[sex] += 1\n",
    "        else:\n",
    "            accidental_sex_counts[sex] = 1\n",
    "\n",
    "\n",
    "print(accidental_sex_counts) "
   ]
  },
  {
   "cell_type": "code",
   "execution_count": 15,
   "metadata": {
    "collapsed": false
   },
   "outputs": [
    {
     "name": "stdout",
     "output_type": "stream",
     "text": [
      "{'Asian/Pacific Islander': 0.07578560782046845, 'White': 0.5736904466492313, 'Native American/Native Alaskan': 0.5883130017708221, 'Black': 0.814893976206835, 'Hispanic': 0.3249801846133985}\n"
     ]
    }
   ],
   "source": [
    "\n",
    "accidental_race_counts = {}\n",
    "for i, race in enumerate(races):\n",
    "    if (intents[i] == \"Accidental\"):\n",
    "        if race in accidental_race_counts:\n",
    "            accidental_race_counts[race] += 1\n",
    "        else:\n",
    "            accidental_race_counts[race] = 1\n",
    "\n",
    "for race in accidental_race_counts:\n",
    "    accidental_race_counts[race] = (accidental_race_counts[race] / mapping[race]) * 100000\n",
    "    \n",
    "print(accidental_race_counts) "
   ]
  },
  {
   "cell_type": "code",
   "execution_count": 16,
   "metadata": {
    "collapsed": false
   },
   "outputs": [
    {
     "name": "stdout",
     "output_type": "stream",
     "text": [
      "{'Farm': 470, 'Street': 11151, 'Trade/service area': 3439, 'Industrial/construction': 248, 'School/instiution': 671, 'NA': 1384, 'Home': 60486, 'Residential institution': 203, 'Sports': 128, 'Other specified': 13751, 'Other unspecified': 8867}\n"
     ]
    }
   ],
   "source": [
    "location = [row[9] for row in data]\n",
    "\n",
    "loc_counts = {}\n",
    "for loc in location:\n",
    "    if loc in loc_counts:\n",
    "        loc_counts[loc] += 1\n",
    "    else:\n",
    "        loc_counts[loc] = 1  \n",
    "        \n",
    "print(loc_counts)"
   ]
  },
  {
   "cell_type": "code",
   "execution_count": 17,
   "metadata": {
    "collapsed": false
   },
   "outputs": [
    {
     "name": "stdout",
     "output_type": "stream",
     "text": [
      "{'4': 12946, '5': 1369, '1': 21823, '3': 21680, 'NA': 53, '2': 42927}\n"
     ]
    }
   ],
   "source": [
    "education = [row[10] for row in data]\n",
    "\n",
    "edu_counts = {}\n",
    "for edu in education:\n",
    "    if edu in edu_counts:\n",
    "        edu_counts[edu] += 1\n",
    "    else:\n",
    "        edu_counts[edu] = 1  \n",
    "        \n",
    "print(edu_counts)"
   ]
  },
  {
   "cell_type": "code",
   "execution_count": null,
   "metadata": {
    "collapsed": true
   },
   "outputs": [],
   "source": []
  }
 ],
 "metadata": {
  "kernelspec": {
   "display_name": "Python 3",
   "language": "python",
   "name": "python3"
  },
  "language_info": {
   "codemirror_mode": {
    "name": "ipython",
    "version": 3
   },
   "file_extension": ".py",
   "mimetype": "text/x-python",
   "name": "python",
   "nbconvert_exporter": "python",
   "pygments_lexer": "ipython3",
   "version": "3.4.3"
  }
 },
 "nbformat": 4,
 "nbformat_minor": 0
}
